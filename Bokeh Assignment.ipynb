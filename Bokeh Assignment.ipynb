{
 "cells": [
  {
   "cell_type": "markdown",
   "id": "bcd91a5a-512c-4848-96f8-cd26e1b42957",
   "metadata": {},
   "source": [
    "**Q1. How can you create a Bokeh plot using Python code?**"
   ]
  },
  {
   "cell_type": "code",
   "execution_count": 1,
   "id": "a698320b-48e8-406e-9a8c-c8d13d7686ad",
   "metadata": {},
   "outputs": [],
   "source": [
    "from bokeh.plotting import figure, show\n",
    "from bokeh.io import output_file\n",
    "\n",
    "x = [1, 2, 3, 4, 5]\n",
    "y = [6, 7, 2, 4, 5]\n",
    "\n",
    "p = figure(title=\"Simple Scatter Plot\", x_axis_label='x', y_axis_label='y')\n",
    "\n",
    "p.scatter(x, y, size=10, color=\"navy\", alpha=0.5)\n",
    "\n",
    "output_file(\"scatter_plot.html\") \n",
    "show(p) "
   ]
  },
  {
   "cell_type": "code",
   "execution_count": null,
   "id": "7f484eeb-715a-47e3-8baf-742a5a9452ab",
   "metadata": {},
   "outputs": [],
   "source": []
  },
  {
   "cell_type": "markdown",
   "id": "1387999d-c377-4a58-8393-0adfcbd28598",
   "metadata": {},
   "source": [
    "**Q2. What are glyphs in Bokeh, and how can you add them to a Bokeh plot? Explain with an example.**\n",
    "\n",
    "A2.\n",
    "\n",
    "\n",
    "In Bokeh, glyphs are the visual shapes or marks that represent data points on a plot. Each glyph corresponds to a specific type of graphical representation, such as points, lines, bars, or other shapes. Glyphs are used to visualize data by mapping data values to visual properties like position, color, size, and shape.\n",
    "\n",
    "Common Types of Glyphs:\n",
    "- Circle: Represents data points as circles.\n",
    "- Square: Represents data points as squares.\n",
    "- Line: Draws lines connecting data points.\n",
    "- Bar: Creates bar charts.\n",
    "- Triangle: Represents data points as triangles.\n",
    "- Image: Displays image tiles."
   ]
  },
  {
   "cell_type": "code",
   "execution_count": 2,
   "id": "6bd51cee-50e2-41f1-aee7-0b48866e22e5",
   "metadata": {},
   "outputs": [
    {
     "name": "stderr",
     "output_type": "stream",
     "text": [
      "BokehDeprecationWarning: 'circle() method with size value' was deprecated in Bokeh 3.4.0 and will be removed, use 'scatter(size=...) instead' instead.\n",
      "BokehDeprecationWarning: 'square() method' was deprecated in Bokeh 3.4.0 and will be removed, use \"scatter(marker='square', ...) instead\" instead.\n"
     ]
    }
   ],
   "source": [
    "from bokeh.plotting import figure, show\n",
    "from bokeh.io import output_file\n",
    "\n",
    "x = [1, 2, 3, 4, 5]\n",
    "y = [6, 7, 2, 4, 5]\n",
    "\n",
    "p = figure(title=\"Glyph Example Plot\", x_axis_label='x', y_axis_label='y')\n",
    "\n",
    "p.circle(x, y, size=10, color=\"blue\", alpha=0.5, legend_label=\"Circle\")\n",
    "\n",
    "p.square(x, [i + 1 for i in y], size=10, color=\"green\", alpha=0.5, legend_label=\"Square\")\n",
    "\n",
    "p.line(x, y, line_width=2, color=\"red\", legend_label=\"Line\")\n",
    "\n",
    "p.vbar(x=x, top=[i + 2 for i in y], width=0.5, color=\"purple\", legend_label=\"Bar\")\n",
    "\n",
    "output_file(\"glyph_example.html\")\n",
    "show(p)"
   ]
  },
  {
   "cell_type": "code",
   "execution_count": null,
   "id": "9371eed8-968a-49ba-85a4-f0e4497a869c",
   "metadata": {},
   "outputs": [],
   "source": []
  },
  {
   "cell_type": "markdown",
   "id": "67ea9857-f6df-4387-b91c-2d5867071c68",
   "metadata": {},
   "source": [
    "**Q3. How can you customize the appearance of a Bokeh plot, including the axes, title, and legend?**\n",
    "\n",
    "A3.\n",
    "\n",
    "\n",
    "Customizing the appearance of a Bokeh plot involves adjusting various elements like axes, titles, and legends to make your visualization more informative and visually appealing. Here's a detailed guide on how to customize these aspects in Bokeh:\n",
    "\n",
    "Customizing Axes\n",
    "- Axis Labels: You can set labels for the x and y axes using the x_axis_label and y_axis_label parameters of the figure() function.\n",
    "- Axis Title: Customize the title's font size, color, and style.\n",
    "- Tick Labels: Adjust the appearance of tick labels, including their font size and angle.\n",
    "- Axis Ticks: Modify tick sizes, colors, and positions.\n",
    "\n",
    "Customizing Title\n",
    "- Plot Title: Set the title of the plot and customize its font size, color, and alignment.\n",
    "- Title Position: Adjust the position of the title (above, below, etc.).\n",
    "\n",
    "Customizing Legend\n",
    "- Legend Position: Set the position of the legend within the plot area.\n",
    "- Legend Background: Customize the background color and border of the legend.\n",
    "- Legend Font: Adjust the font size and color of the legend labels."
   ]
  },
  {
   "cell_type": "code",
   "execution_count": 3,
   "id": "4257520b-7e36-472b-8a70-a9b059e90a34",
   "metadata": {},
   "outputs": [
    {
     "name": "stderr",
     "output_type": "stream",
     "text": [
      "BokehDeprecationWarning: 'circle() method with size value' was deprecated in Bokeh 3.4.0 and will be removed, use 'scatter(size=...) instead' instead.\n"
     ]
    }
   ],
   "source": [
    "from bokeh.plotting import figure, show\n",
    "from bokeh.io import output_file\n",
    "\n",
    "x = [1, 2, 3, 4, 5]\n",
    "y = [6, 7, 2, 4, 5]\n",
    "\n",
    "p = figure(title=\"Customized Plot\", x_axis_label='X Axis', y_axis_label='Y Axis', width=600, height=400)\n",
    "\n",
    "p.circle(x, y, size=10, color=\"blue\", alpha=0.5, legend_label=\"Data Points\")\n",
    "\n",
    "p.xaxis.axis_label = \"Custom X Axis Label\"\n",
    "p.yaxis.axis_label = \"Custom Y Axis Label\"\n",
    "p.xaxis.axis_label_standoff = 12  # Space between label and axis\n",
    "p.yaxis.axis_label_standoff = 12\n",
    "\n",
    "p.xaxis.major_label_orientation = \"vertical\"  # Rotate labels\n",
    "p.xaxis.major_label_text_font_size = \"12pt\"  # Font size for tick labels\n",
    "p.yaxis.major_label_text_font_size = \"12pt\"\n",
    "\n",
    "p.title.text_font_size = \"16pt\"\n",
    "p.title.align = \"center\"\n",
    "p.title.text_color = \"green\"\n",
    "\n",
    "p.legend.location = \"top_left\"\n",
    "p.legend.background_fill_color = \"lightgray\"\n",
    "p.legend.background_fill_alpha = 0.5\n",
    "p.legend.label_text_font_size = \"12pt\"\n",
    "\n",
    "output_file(\"customized_plot.html\")\n",
    "show(p)"
   ]
  },
  {
   "cell_type": "code",
   "execution_count": null,
   "id": "05c79985-d122-434c-97a0-a2fa741c108c",
   "metadata": {},
   "outputs": [],
   "source": []
  },
  {
   "cell_type": "markdown",
   "id": "e6990ca3-af19-4984-98f7-688c65df0ba5",
   "metadata": {},
   "source": [
    "**Q4. What is a Bokeh server, and how can you use it to create interactive plots that can be updated in\n",
    "real time?**\n",
    "\n",
    "A4.\n",
    "\n",
    "A Bokeh server is a component of the Bokeh library that allows you to create and deploy interactive web applications. It enables real-time updates and interactions with your plots by integrating Python code directly with the web browser. This is particularly useful for applications that require live data updates, dynamic user interactions, or complex interactive behaviors.\n",
    "\n",
    "- Purpose: The Bokeh server is designed to provide a way to create interactive web applications that can handle real-time updates and interactions. It allows you to build applications where users can interact with plots and see immediate changes based on their actions or changes in underlying data.\n",
    "\n",
    "- Functionality: It facilitates the connection between Python code and the web browser, allowing you to update plots dynamically and respond to user inputs without reloading the entire page.\n",
    "\n",
    "Key Components\n",
    "- Bokeh Application: Defines how the interactive plot should behave and what data it should display.\n",
    "- Document: Contains the layout and the plot objects. It represents the content that will be rendered in the web browser.\n",
    "- Handler: Defines how the application should handle events and interactions."
   ]
  },
  {
   "cell_type": "code",
   "execution_count": 4,
   "id": "5bb03794-8601-48b2-b9c9-cb5fb9e73864",
   "metadata": {},
   "outputs": [],
   "source": [
    "from bokeh.io import curdoc\n",
    "from bokeh.layouts import column\n",
    "from bokeh.models import ColumnDataSource, Slider\n",
    "from bokeh.plotting import figure\n",
    "import numpy as np\n",
    "\n",
    "x = np.linspace(0, 4*np.pi, 100)\n",
    "y = np.sin(x)\n",
    "source = ColumnDataSource(data=dict(x=x, y=y))\n",
    "\n",
    "plot = figure(title=\"Interactive Plot with Bokeh Server\", x_axis_label='x', y_axis_label='y')\n",
    "line = plot.line('x', 'y', source=source, line_width=2)\n",
    "\n",
    "slider = Slider(start=0.1, end=2.0, value=1.0, step=0.1, title=\"Frequency\")\n",
    "\n",
    "def update(attr, old, new):\n",
    "    frequency = slider.value\n",
    "    source.data = dict(x=x, y=np.sin(frequency * x))\n",
    "\n",
    "slider.on_change('value', update)\n",
    "\n",
    "layout = column(slider, plot)\n",
    "\n",
    "curdoc().add_root(layout)"
   ]
  },
  {
   "cell_type": "code",
   "execution_count": null,
   "id": "1eb5d3bb-a669-41af-8ec9-3c1e826b1a98",
   "metadata": {},
   "outputs": [],
   "source": []
  },
  {
   "cell_type": "markdown",
   "id": "6023f86f-f394-4883-8dae-480022bdd3fc",
   "metadata": {},
   "source": [
    "**Q5. How can you embed a Bokeh plot into a web page or dashboard using Flask or Django?**\n",
    "\n",
    "A5.\n",
    "\n",
    "To embed a Bokeh plot into a web page or dashboard using Flask or Django, follow these general steps:\n",
    "\n",
    "**Using Flask**\n",
    "\n",
    "- Create a Flask Application: Set up a basic Flask application with routes for serving web pages.\n",
    "\n",
    "- Generate Bokeh Plot: Use Bokeh to create your plot in a Python script or function. Save the plot as an HTML object or use components() from Bokeh to generate the necessary script and div elements.\n",
    "\n",
    "- Embed Plot in HTML: In your Flask route handler, render an HTML template that includes the Bokeh plot. Pass the script and div elements generated by Bokeh to the template.\n",
    "\n",
    "- Serve HTML Page: Serve the HTML page with embedded Bokeh plot through Flask's route.\n",
    "\n",
    "**Using Django**\n",
    "\n",
    "- Create a Django Application: Set up a Django application with views and templates.\n",
    "\n",
    "- Generate Bokeh Plot: Similar to Flask, generate your Bokeh plot and get the HTML components (script and div) using Bokeh's components() function.\n",
    "\n",
    "- Pass Plot to Template: Pass the generated script and div to a Django template through the context dictionary in your view.\n",
    "\n",
    "- Embed in Template: In your Django template, include the Bokeh plot by embedding the script and div elements where you want the plot to appear.\n",
    "\n",
    "- Render Page: Serve the rendered template through Django's view, which will display the Bokeh plot on the web page.\n",
    "\n",
    "Both approaches involve generating the Bokeh plot as HTML components and embedding these components into your web application’s HTML templates. This allows you to display interactive Bokeh plots on your web pages or dashboards."
   ]
  },
  {
   "cell_type": "code",
   "execution_count": null,
   "id": "96816fff-e74c-47b1-9474-ec37b5ea3233",
   "metadata": {},
   "outputs": [],
   "source": []
  },
  {
   "cell_type": "code",
   "execution_count": null,
   "id": "c1cfb8a8-0fb7-4d33-8405-9724a3218ba0",
   "metadata": {},
   "outputs": [],
   "source": []
  }
 ],
 "metadata": {
  "kernelspec": {
   "display_name": "Python 3 (ipykernel)",
   "language": "python",
   "name": "python3"
  },
  "language_info": {
   "codemirror_mode": {
    "name": "ipython",
    "version": 3
   },
   "file_extension": ".py",
   "mimetype": "text/x-python",
   "name": "python",
   "nbconvert_exporter": "python",
   "pygments_lexer": "ipython3",
   "version": "3.12.5"
  }
 },
 "nbformat": 4,
 "nbformat_minor": 5
}
